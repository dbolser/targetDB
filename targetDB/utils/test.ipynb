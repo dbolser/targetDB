{
 "cells": [
  {
   "cell_type": "code",
   "execution_count": 8,
   "metadata": {
    "collapsed": false
   },
   "outputs": [],
   "source": [
    "from Bio import ExPASy\n",
    "from Bio import SwissProt\n",
    "from Bio import SeqIO"
   ]
  },
  {
   "cell_type": "code",
   "execution_count": 116,
   "metadata": {
    "collapsed": false
   },
   "outputs": [],
   "source": [
    "def _read_ft(features,line):\n",
    "    line = line[5:]\n",
    "    name = line[0:10].rstrip()\n",
    "    description = ''\n",
    "    ft_id = ''\n",
    "    if name:\n",
    "        from_to = line[10:].strip().split('..')\n",
    "        from_res = int(from_to[0])\n",
    "        if len(from_to)>1:\n",
    "            to_res = int(from_to[1])\n",
    "        else:\n",
    "            to_res = None\n",
    "    else:\n",
    "        name,from_res,to_res,old_desc,old_ft_id = features[-1]\n",
    "        del features[-1]\n",
    "        line = line.lstrip()\n",
    "        if line.startswith('/note'):\n",
    "            description = line.lstrip('/note=\"').rstrip().rstrip('\"')\n",
    "        elif line.startswith('/id'):\n",
    "            ft_id = line.lstrip('/id=\"').rstrip().rstrip('\"')\n",
    "            description = old_desc\n",
    "        elif line.startswith('/evidence'):\n",
    "            description = old_desc+' ('+line.lstrip('/evidence=\"').rstrip().rstrip('\"')\n",
    "        elif old_desc!='' and not line.startswith('/'):\n",
    "            if old_desc.endswith(')'):\n",
    "                old_desc = old_desc.rstrip(')')+' '\n",
    "            description = (\"%s%s\" % (old_desc, line.rstrip().rstrip('\"'))).strip()\n",
    "        else:\n",
    "            description = old_desc\n",
    "    if description.count('(')>description.count(')'):\n",
    "        description+=')'\n",
    "    features.append((name,from_res,to_res,description,ft_id))\n",
    "    \n",
    "    \n",
    "def _read_cc(comments, line):\n",
    "\tkey, value = line[5:8], line[9:].rstrip()\n",
    "\tif key == \"-!-\":  # Make a new comment\n",
    "\t\tcomments.append(value)\n",
    "\telif key == \"   \":  # add to the previous comment\n",
    "\t\tif not comments:\n",
    "\t\t\t# TCMO_STRGA in Release 37 has comment with no topic\n",
    "\t\t\tcomments.append(value)\n",
    "\t\telse:\n",
    "\t\t\tcomments[-1] += \" \" + value"
   ]
  },
  {
   "cell_type": "code",
   "execution_count": 117,
   "metadata": {
    "collapsed": false,
    "scrolled": true
   },
   "outputs": [
    {
     "data": {
      "text/plain": [
       "[('CHAIN', 1, 205, 'Regulator of G-protein signaling 4', 'PRO_0000204185'),\n",
       " ('DOMAIN', 62, 178, 'RGS (ECO:0000255|PROSITE-ProRule:PRU00171)', ''),\n",
       " ('LIPID', 2, None, 'S-palmitoyl cysteine (ECO:0000305|PubMed:10608901)', ''),\n",
       " ('LIPID', 12, None, 'S-palmitoyl cysteine (ECO:0000305|PubMed:10608901)', ''),\n",
       " ('LIPID', 95, None, 'S-palmitoyl cysteine (ECO:0000269|PubMed:10608901)', ''),\n",
       " ('VAR_SEQ',\n",
       "  1,\n",
       "  18,\n",
       "  'Missing (in isoform 5) (ECO:0000303|PubMed:14702039, ECO:0000303|PubMed:17707117)',\n",
       "  'VSP_043854'),\n",
       " ('VAR_SEQ',\n",
       "  1,\n",
       "  None,\n",
       "  'M -> MYNMMLLIQKRKGIGSQLLRAGEAEGDRGAGTAERSSDWLDGRSWAIKETPTGLAGRRSEDSDNIFTGEEAKYAQSRSHSSSCRISFLLANSKLLNKM (in isoform 3) (ECO:0000303|PubMed:14702039, ECO:0000303|PubMed:17707117)',\n",
       "  'VSP_043853'),\n",
       " ('VAR_SEQ',\n",
       "  72,\n",
       "  205,\n",
       "  'GLAAFKAFLKSEYSEENIDFWISCEEYKKIKSPSKLSPKAKKIYNEFISVQATKEVNLDSCTREETSRNMLEPTITCFDEAQKKIFNLMEKDSYRRFLKSRFYLDLVNPSSCGAEKQKGAKSSADCASLVPQCA -> EPGFLHQGRDKPEHARAYNNLL (in isoform 4) (ECO:0000305)',\n",
       "  'VSP_043855'),\n",
       " ('VAR_SEQ',\n",
       "  173,\n",
       "  None,\n",
       "  'F -> S (in isoform 2) (ECO:0000303|PubMed:17707117)',\n",
       "  'VSP_043856'),\n",
       " ('VARIANT', 195, None, 'A -> S (in dbSNP:rs14665)', 'VAR_051795')]"
      ]
     },
     "execution_count": 117,
     "metadata": {},
     "output_type": "execute_result"
    }
   ],
   "source": [
    "features = []\n",
    "comments = []\n",
    "with open('P49798.txt','r') as uniprot_txt:\n",
    "    lines = uniprot_txt.readlines()\n",
    "    for i in lines:\n",
    "        if i.startswith('FT'):\n",
    "            _read_ft(features,i)\n",
    "        if i.startswith('CC'):\n",
    "            _read_cc(comments,i)\n",
    "            \n",
    "features"
   ]
  },
  {
   "cell_type": "code",
   "execution_count": 118,
   "metadata": {
    "collapsed": false
   },
   "outputs": [
    {
     "data": {
      "text/plain": [
       "['FUNCTION: Inhibits signal transduction by increasing the GTPase activity of G protein alpha subunits thereby driving them into their inactive GDP-bound form. Activity on G(z)-alpha is inhibited by phosphorylation of the G-protein. Activity on G(z)-alpha and G(i)- alpha-1 is inhibited by palmitoylation of the G-protein.',\n",
       " 'ALTERNATIVE PRODUCTS: Event=Alternative splicing; Named isoforms=5;   Comment=May be produced by alternative promoter usage.; Name=1; Synonyms=B;   IsoId=P49798-1; Sequence=Displayed; Name=2; Synonyms=A;   IsoId=P49798-2; Sequence=VSP_043856; Name=3; Synonyms=C;   IsoId=P49798-3; Sequence=VSP_043853; Name=4;   IsoId=P49798-4; Sequence=VSP_043855; Name=5;   IsoId=P49798-5; Sequence=VSP_043854;',\n",
       " 'TISSUE SPECIFICITY: Expressed in brain and heart. Expressed in brain at protein level. Expressed in prefontal and visual cortex. Isoform 4 and isoform 5 are expressed ubiquitously. Isoform 1, isoform 2 and isoform 3 are not expressed in the cerebellum. {ECO:0000269|PubMed:17707117}.',\n",
       " 'PTM: Palmitoylated on Cys-2 and/or Cys-12. {ECO:0000269|PubMed:10608901}.',\n",
       " 'PTM: Phosphorylated by cyclic GMP-dependent protein kinase. {ECO:0000250}.',\n",
       " 'DISEASE: Schizophrenia (SCZD) [MIM:181500]: A complex, multifactorial psychotic disorder or group of disorders characterized by disturbances in the form and content of thought (e.g. delusions, hallucinations), in mood (e.g. inappropriate affect), in sense of self and relationship to the external world (e.g. loss of ego boundaries, withdrawal), and in behavior (e.g bizarre or apparently purposeless behavior). Although it affects emotions, it is distinguished from mood disorders in which such disturbances are primary. Similarly, there may be mild impairment of cognitive function, and it is distinguished from the dementias in which disturbed cognitive function is considered primary. Some patients manifest schizophrenic as well as bipolar disorder symptoms and are often given the diagnosis of schizoaffective disorder. {ECO:0000269|PubMed:12023979, ECO:0000269|PubMed:14755443}. Note=Disease susceptibility may be associated with variations affecting the gene represented in this entry.']"
      ]
     },
     "execution_count": 118,
     "metadata": {},
     "output_type": "execute_result"
    }
   ],
   "source": [
    "comments"
   ]
  },
  {
   "cell_type": "code",
   "execution_count": null,
   "metadata": {
    "collapsed": true
   },
   "outputs": [],
   "source": []
  }
 ],
 "metadata": {
  "kernelspec": {
   "display_name": "Python [conda env:anaconda3]",
   "language": "python",
   "name": "conda-env-anaconda3-py"
  },
  "language_info": {
   "codemirror_mode": {
    "name": "ipython",
    "version": 3
   },
   "file_extension": ".py",
   "mimetype": "text/x-python",
   "name": "python",
   "nbconvert_exporter": "python",
   "pygments_lexer": "ipython3",
   "version": "3.5.5"
  }
 },
 "nbformat": 4,
 "nbformat_minor": 1
}
