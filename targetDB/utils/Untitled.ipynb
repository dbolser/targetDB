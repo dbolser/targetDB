{
 "cells": [
  {
   "cell_type": "code",
   "execution_count": 18,
   "metadata": {
    "collapsed": true
   },
   "outputs": [],
   "source": [
    "import pandas as pd\n",
    "import numpy as np\n",
    "import sqlite3"
   ]
  },
  {
   "cell_type": "code",
   "execution_count": 48,
   "metadata": {
    "collapsed": false,
    "scrolled": true
   },
   "outputs": [],
   "source": [
    "targetDB_path = \"/data/sdecesco/databases/druggability/TargetDB_20_02_19.db\"\n",
    "connector = sqlite3.connect(targetDB_path)\n",
    "required_columns = [\n",
    "    \"alias_symbol\",\n",
    "    \"ensembl_gene_id\",\n",
    "    \"prev_symbol\",\n",
    "    \"symbol\",\n",
    "    \"uniprot_ids\",\n",
    "]\n",
    "gene_id_query = \"\"\"SELECT * FROM hgnc\"\"\"\n",
    "gene_xref = pd.read_sql(gene_id_query, con=connector)\n",
    "xref_df = gene_xref[gene_xref.xref_name.isin(required_columns)]\n",
    "xref_piv = xref_df.pivot_table(\n",
    "    index=\"hgnc_id\",\n",
    "    values=\"xref_value\",\n",
    "    columns=\"xref_name\",\n",
    "    aggfunc=lambda x: \";\".join(x),\n",
    "    fill_value=\"\",\n",
    ")\n",
    "xref_piv = xref_piv.replace(\"\", np.nan)\n",
    "xref_piv = xref_piv.dropna(subset=[\"uniprot_ids\"])\n",
    "for col in required_columns:\n",
    "    if col not in xref_piv.columns:\n",
    "        xref_piv[col] = \"\"\n",
    "xref_piv.uniprot_ids = xref_piv.uniprot_ids.apply(\n",
    "    lambda x: list(filter(None, x.split(\";\")))\n",
    ")\n",
    "connector.close()\n",
    "output = xref_piv.reset_index()\n",
    "output.drop_duplicates(subset=[\"hgnc_id\", \"ensembl_gene_id\", \"symbol\"], inplace=True)\n",
    "output.index = output[\"hgnc_id\"]"
   ]
  },
  {
   "cell_type": "markdown",
   "metadata": {},
   "source": [
    "output"
   ]
  },
  {
   "cell_type": "code",
   "execution_count": 52,
   "metadata": {
    "collapsed": false
   },
   "outputs": [],
   "source": [
    "gene_xref = pd.read_json(\"json_files/hgnc_19_02_19.zip\")"
   ]
  },
  {
   "cell_type": "code",
   "execution_count": 65,
   "metadata": {
    "collapsed": true
   },
   "outputs": [],
   "source": [
    "required_columns = [\n",
    "    \"alias_symbol\",\n",
    "    \"ensembl_gene_id\",\n",
    "    \"prev_symbol\",\n",
    "    \"symbol\",\n",
    "    \"uniprot_ids\",\n",
    "]\n",
    "xref_df = gene_xref[gene_xref.xref_name.isin(required_columns)]\n",
    "xref_piv = xref_df.pivot_table(\n",
    "    index=\"hgnc_id\",\n",
    "    values=\"xref_value\",\n",
    "    columns=\"xref_name\",\n",
    "    aggfunc=lambda x: \";\".join(x),\n",
    "    fill_value=\"\",\n",
    ")\n",
    "xref_piv = xref_piv.replace(\"\", np.nan)\n",
    "xref_piv = xref_piv.dropna(subset=[\"uniprot_ids\"])\n",
    "xref_piv = xref_piv.replace(np.nan, \"\")\n",
    "for col in required_columns:\n",
    "    if col not in xref_piv.columns:\n",
    "        xref_piv[col] = \"\"\n",
    "xref_piv.uniprot_ids = xref_piv.uniprot_ids.apply(\n",
    "    lambda x: list(filter(None, x.split(\";\")))\n",
    ")\n",
    "connector.close()\n",
    "output = xref_piv.reset_index()\n",
    "output.drop_duplicates(subset=[\"hgnc_id\", \"ensembl_gene_id\", \"symbol\"], inplace=True)\n",
    "output.index = output[\"hgnc_id\"]"
   ]
  },
  {
   "cell_type": "code",
   "execution_count": 79,
   "metadata": {
    "collapsed": false
   },
   "outputs": [
    {
     "data": {
      "text/html": [
       "<div>\n",
       "<style scoped>\n",
       "    .dataframe tbody tr th:only-of-type {\n",
       "        vertical-align: middle;\n",
       "    }\n",
       "\n",
       "    .dataframe tbody tr th {\n",
       "        vertical-align: top;\n",
       "    }\n",
       "\n",
       "    .dataframe thead th {\n",
       "        text-align: right;\n",
       "    }\n",
       "</style>\n",
       "<table border=\"1\" class=\"dataframe\">\n",
       "  <thead>\n",
       "    <tr style=\"text-align: right;\">\n",
       "      <th>xref_name</th>\n",
       "      <th>hgnc_id</th>\n",
       "      <th>alias_symbol</th>\n",
       "      <th>ensembl_gene_id</th>\n",
       "      <th>prev_symbol</th>\n",
       "      <th>symbol</th>\n",
       "      <th>uniprot_ids</th>\n",
       "    </tr>\n",
       "  </thead>\n",
       "  <tbody>\n",
       "    <tr>\n",
       "      <th>19686</th>\n",
       "      <td>HGNC:9999</td>\n",
       "      <td>C2PA;FLJ20370;PDZ-RGS3</td>\n",
       "      <td>ENSG00000138835</td>\n",
       "      <td></td>\n",
       "      <td>RGS3</td>\n",
       "      <td>[P49796]</td>\n",
       "    </tr>\n",
       "  </tbody>\n",
       "</table>\n",
       "</div>"
      ],
      "text/plain": [
       "xref_name    hgnc_id            alias_symbol  ensembl_gene_id prev_symbol  \\\n",
       "19686      HGNC:9999  C2PA;FLJ20370;PDZ-RGS3  ENSG00000138835               \n",
       "\n",
       "xref_name symbol uniprot_ids  \n",
       "19686       RGS3    [P49796]  "
      ]
     },
     "execution_count": 79,
     "metadata": {},
     "output_type": "execute_result"
    }
   ],
   "source": [
    "output = output.reset_index(drop=True)\n",
    "output[output.symbol == \"RGS3\"]"
   ]
  },
  {
   "cell_type": "code",
   "execution_count": null,
   "metadata": {
    "collapsed": false
   },
   "outputs": [],
   "source": []
  },
  {
   "cell_type": "code",
   "execution_count": null,
   "metadata": {
    "collapsed": false
   },
   "outputs": [],
   "source": []
  },
  {
   "cell_type": "code",
   "execution_count": null,
   "metadata": {
    "collapsed": false
   },
   "outputs": [],
   "source": []
  },
  {
   "cell_type": "code",
   "execution_count": null,
   "metadata": {
    "collapsed": true
   },
   "outputs": [],
   "source": []
  }
 ],
 "metadata": {
  "anaconda-cloud": {},
  "kernelspec": {
   "display_name": "Python [conda env:anaconda3]",
   "language": "python",
   "name": "conda-env-anaconda3-py"
  },
  "language_info": {
   "codemirror_mode": {
    "name": "ipython",
    "version": 3
   },
   "file_extension": ".py",
   "mimetype": "text/x-python",
   "name": "python",
   "nbconvert_exporter": "python",
   "pygments_lexer": "ipython3",
   "version": "3.5.5"
  }
 },
 "nbformat": 4,
 "nbformat_minor": 1
}
