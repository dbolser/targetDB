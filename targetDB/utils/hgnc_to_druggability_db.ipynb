{
 "cells": [
  {
   "cell_type": "code",
   "execution_count": 1,
   "metadata": {
    "collapsed": true
   },
   "outputs": [],
   "source": [
    "import pandas as pd\n",
    "import numpy as np\n",
    "import time\n",
    "\n",
    "day = time.strftime(\"%d_%m_%y\")"
   ]
  },
  {
   "cell_type": "code",
   "execution_count": 2,
   "metadata": {
    "collapsed": false
   },
   "outputs": [],
   "source": [
    "def explode(v, i, sep=\"|\"):\n",
    "    v = v.astype(str)\n",
    "    n, m = v.shape\n",
    "    a = v[:, i]\n",
    "    bslc = np.r_[0:i, i + 1 : m]\n",
    "    asrt = np.append(i, bslc).argsort()\n",
    "    b = v[:, bslc]\n",
    "    a = np.core.defchararray.split(a, sep)\n",
    "    A = np.concatenate(a)[:, None]\n",
    "    counts = [len(x) for x in a.tolist()]\n",
    "    rpt = np.arange(n).repeat(counts)\n",
    "    return np.concatenate([A, b[rpt]], axis=1)[:, asrt]"
   ]
  },
  {
   "cell_type": "code",
   "execution_count": 6,
   "metadata": {
    "collapsed": false,
    "scrolled": true
   },
   "outputs": [
    {
     "name": "stderr",
     "output_type": "stream",
     "text": [
      "/ssddata/sdecesco/anaconda3/lib/python3.5/site-packages/IPython/core/interactiveshell.py:2717: DtypeWarning: Columns (32,34,38,50) have mixed types. Specify dtype option on import or set low_memory=False.\n",
      "  interactivity=interactivity, compiler=compiler, result=result)\n"
     ]
    }
   ],
   "source": [
    "df = pd.read_csv(\"source_files/hgnc_12_12_2019.tsv\", sep=\"\\t\")\n",
    "df = df[df[\"status\"] != \"Entry Withdrawn\"]\n",
    "df = df[df[\"locus_group\"].isin([\"protein-coding gene\", \"non-coding RNA\", \"pseudogene\"])]\n",
    "\n",
    "keep_col = [\n",
    "    \"hgnc_id\",\n",
    "    \"symbol\",\n",
    "    \"name\",\n",
    "    \"locus_group\",\n",
    "    \"locus_type\",\n",
    "    \"status\",\n",
    "    \"location\",\n",
    "    \"location_sortable\",\n",
    "    \"alias_symbol\",\n",
    "    \"alias_name\",\n",
    "    \"prev_symbol\",\n",
    "    \"prev_name\",\n",
    "    \"gene_family\",\n",
    "    \"entrez_id\",\n",
    "    \"ensembl_gene_id\",\n",
    "    \"vega_id\",\n",
    "    \"ucsc_id\",\n",
    "    \"ena\",\n",
    "    \"refseq_accession\",\n",
    "    \"ccds_id\",\n",
    "    \"uniprot_ids\",\n",
    "    \"pubmed_id\",\n",
    "    \"mgd_id\",\n",
    "    \"rgd_id\",\n",
    "    \"omim_id\",\n",
    "    \"orphanet\",\n",
    "    \"merops\",\n",
    "    \"imgt\",\n",
    "    \"iuphar\",\n",
    "    \"enzyme_id\",\n",
    "]\n",
    "df = df[keep_col]\n",
    "\n",
    "\n",
    "melt = pd.melt(df, [\"hgnc_id\"])\n",
    "melt = melt.dropna(how=\"any\")\n",
    "\n",
    "df_long = pd.DataFrame(explode(melt.values, 2), columns=melt.columns)\n",
    "\n",
    "df_long.columns = [\"hgnc_id\", \"xref_name\", \"xref_value\"]\n",
    "\n",
    "df_long.to_json(\"json_files/hgnc_\" + day + \".json\")"
   ]
  },
  {
   "cell_type": "code",
   "execution_count": null,
   "metadata": {
    "collapsed": false
   },
   "outputs": [],
   "source": []
  },
  {
   "cell_type": "code",
   "execution_count": null,
   "metadata": {
    "collapsed": true
   },
   "outputs": [],
   "source": []
  }
 ],
 "metadata": {
  "anaconda-cloud": {},
  "kernelspec": {
   "display_name": "Python [conda root]",
   "language": "python",
   "name": "conda-root-py"
  },
  "language_info": {
   "codemirror_mode": {
    "name": "ipython",
    "version": 3
   },
   "file_extension": ".py",
   "mimetype": "text/x-python",
   "name": "python",
   "nbconvert_exporter": "python",
   "pygments_lexer": "ipython3",
   "version": "3.5.5"
  }
 },
 "nbformat": 4,
 "nbformat_minor": 1
}
